{
 "cells": [
  {
   "cell_type": "markdown",
   "metadata": {},
   "source": [
    "---\n",
    "# Import Modules \n",
    "<span id=\"Importmodules\"></span>\n",
    "\n",
    "---"
   ]
  },
  {
   "cell_type": "code",
   "execution_count": 1,
   "metadata": {},
   "outputs": [
    {
     "name": "stdout",
     "output_type": "stream",
     "text": [
      "Requirement already satisfied: bcrypt==4.3.0 in c:\\users\\shaik\\.conda\\envs\\gesture\\lib\\site-packages (from -r requirements.txt (line 1)) (4.3.0)\n",
      "Requirement already satisfied: cffi==1.17.1 in c:\\users\\shaik\\.conda\\envs\\gesture\\lib\\site-packages (from -r requirements.txt (line 2)) (1.17.1)\n",
      "Requirement already satisfied: cvzone==1.6.1 in c:\\users\\shaik\\.conda\\envs\\gesture\\lib\\site-packages (from -r requirements.txt (line 3)) (1.6.1)\n",
      "Requirement already satisfied: Flask==3.0.3 in c:\\users\\shaik\\.conda\\envs\\gesture\\lib\\site-packages (from -r requirements.txt (line 4)) (3.0.3)\n",
      "Requirement already satisfied: Flask-Bcrypt==1.0.1 in c:\\users\\shaik\\.conda\\envs\\gesture\\lib\\site-packages (from -r requirements.txt (line 5)) (1.0.1)\n",
      "Requirement already satisfied: keras==2.15.0 in c:\\users\\shaik\\.conda\\envs\\gesture\\lib\\site-packages (from -r requirements.txt (line 6)) (2.15.0)\n",
      "Requirement already satisfied: matplotlib==3.10.0 in c:\\users\\shaik\\.conda\\envs\\gesture\\lib\\site-packages (from -r requirements.txt (line 7)) (3.10.0)\n",
      "Requirement already satisfied: mediapipe==0.10.14 in c:\\users\\shaik\\.conda\\envs\\gesture\\lib\\site-packages (from -r requirements.txt (line 8)) (0.10.14)\n",
      "Requirement already satisfied: mysql-connector==2.2.9 in c:\\users\\shaik\\.conda\\envs\\gesture\\lib\\site-packages (from -r requirements.txt (line 9)) (2.2.9)\n",
      "Requirement already satisfied: numpy==1.26.4 in c:\\users\\shaik\\.conda\\envs\\gesture\\lib\\site-packages (from -r requirements.txt (line 10)) (1.26.4)\n",
      "Requirement already satisfied: oauthlib==3.2.2 in c:\\users\\shaik\\.conda\\envs\\gesture\\lib\\site-packages (from -r requirements.txt (line 11)) (3.2.2)\n",
      "Requirement already satisfied: opencv-contrib-python==4.11.0.86 in c:\\users\\shaik\\.conda\\envs\\gesture\\lib\\site-packages (from -r requirements.txt (line 12)) (4.11.0.86)\n",
      "Requirement already satisfied: opencv-python==4.10.0.84 in c:\\users\\shaik\\.conda\\envs\\gesture\\lib\\site-packages (from -r requirements.txt (line 13)) (4.10.0.84)\n",
      "Requirement already satisfied: pillow==11.1.0 in c:\\users\\shaik\\.conda\\envs\\gesture\\lib\\site-packages (from -r requirements.txt (line 14)) (11.1.0)\n",
      "Requirement already satisfied: pynput==1.7.7 in c:\\users\\shaik\\.conda\\envs\\gesture\\lib\\site-packages (from -r requirements.txt (line 15)) (1.7.7)\n",
      "Requirement already satisfied: pycparser==2.22 in c:\\users\\shaik\\.conda\\envs\\gesture\\lib\\site-packages (from -r requirements.txt (line 16)) (2.22)\n",
      "Requirement already satisfied: python-dateutil==2.9.0.post0 in c:\\users\\shaik\\.conda\\envs\\gesture\\lib\\site-packages (from -r requirements.txt (line 17)) (2.9.0.post0)\n",
      "Requirement already satisfied: pytz==2025.1 in c:\\users\\shaik\\.conda\\envs\\gesture\\lib\\site-packages (from -r requirements.txt (line 18)) (2025.1)\n",
      "Requirement already satisfied: requests==2.32.3 in c:\\users\\shaik\\.conda\\envs\\gesture\\lib\\site-packages (from -r requirements.txt (line 19)) (2.32.3)\n",
      "Requirement already satisfied: rsa==4.9 in c:\\users\\shaik\\.conda\\envs\\gesture\\lib\\site-packages (from -r requirements.txt (line 20)) (4.9)\n",
      "Requirement already satisfied: scipy==1.15.1 in c:\\users\\shaik\\.conda\\envs\\gesture\\lib\\site-packages (from -r requirements.txt (line 21)) (1.15.1)\n",
      "Requirement already satisfied: seaborn==0.13.2 in c:\\users\\shaik\\.conda\\envs\\gesture\\lib\\site-packages (from -r requirements.txt (line 22)) (0.13.2)\n",
      "Requirement already satisfied: SpeechRecognition==3.11.0 in c:\\users\\shaik\\.conda\\envs\\gesture\\lib\\site-packages (from -r requirements.txt (line 23)) (3.11.0)\n",
      "Requirement already satisfied: sounddevice==0.5.1 in c:\\users\\shaik\\.conda\\envs\\gesture\\lib\\site-packages (from -r requirements.txt (line 24)) (0.5.1)\n",
      "Requirement already satisfied: pyaudio==0.2.14 in c:\\users\\shaik\\.conda\\envs\\gesture\\lib\\site-packages (from -r requirements.txt (line 25)) (0.2.14)\n",
      "Requirement already satisfied: pydub==0.25.1 in c:\\users\\shaik\\.conda\\envs\\gesture\\lib\\site-packages (from -r requirements.txt (line 26)) (0.25.1)\n",
      "Requirement already satisfied: tensorflow==2.15.0 in c:\\users\\shaik\\.conda\\envs\\gesture\\lib\\site-packages (from -r requirements.txt (line 27)) (2.15.0)\n",
      "Requirement already satisfied: tensorflow-estimator==2.15.0 in c:\\users\\shaik\\.conda\\envs\\gesture\\lib\\site-packages (from -r requirements.txt (line 28)) (2.15.0)\n",
      "Requirement already satisfied: tensorflow-intel==2.15.0 in c:\\users\\shaik\\.conda\\envs\\gesture\\lib\\site-packages (from -r requirements.txt (line 29)) (2.15.0)\n",
      "Requirement already satisfied: torch==2.6.0 in c:\\users\\shaik\\.conda\\envs\\gesture\\lib\\site-packages (from -r requirements.txt (line 30)) (2.6.0)\n",
      "Requirement already satisfied: torchvision==0.21.0 in c:\\users\\shaik\\.conda\\envs\\gesture\\lib\\site-packages (from -r requirements.txt (line 31)) (0.21.0)\n",
      "Requirement already satisfied: tk==0.1.0 in c:\\users\\shaik\\.conda\\envs\\gesture\\lib\\site-packages (from -r requirements.txt (line 32)) (0.1.0)\n",
      "Requirement already satisfied: tzdata==2025.1 in c:\\users\\shaik\\.conda\\envs\\gesture\\lib\\site-packages (from -r requirements.txt (line 33)) (2025.1)\n",
      "Requirement already satisfied: typing_extensions==4.12.2 in c:\\users\\shaik\\.conda\\envs\\gesture\\lib\\site-packages (from -r requirements.txt (line 34)) (4.12.2)\n",
      "Requirement already satisfied: ultralytics==8.3.40 in c:\\users\\shaik\\.conda\\envs\\gesture\\lib\\site-packages (from -r requirements.txt (line 35)) (8.3.40)\n",
      "Requirement already satisfied: ultralytics-thop==2.0.14 in c:\\users\\shaik\\.conda\\envs\\gesture\\lib\\site-packages (from -r requirements.txt (line 36)) (2.0.14)\n",
      "Requirement already satisfied: Werkzeug==3.1.3 in c:\\users\\shaik\\.conda\\envs\\gesture\\lib\\site-packages (from -r requirements.txt (line 37)) (3.1.3)\n",
      "Requirement already satisfied: Jinja2>=3.1.2 in c:\\users\\shaik\\.conda\\envs\\gesture\\lib\\site-packages (from Flask==3.0.3->-r requirements.txt (line 4)) (3.1.4)\n",
      "Requirement already satisfied: itsdangerous>=2.1.2 in c:\\users\\shaik\\.conda\\envs\\gesture\\lib\\site-packages (from Flask==3.0.3->-r requirements.txt (line 4)) (2.2.0)\n",
      "Requirement already satisfied: click>=8.1.3 in c:\\users\\shaik\\.conda\\envs\\gesture\\lib\\site-packages (from Flask==3.0.3->-r requirements.txt (line 4)) (8.1.7)\n",
      "Requirement already satisfied: blinker>=1.6.2 in c:\\users\\shaik\\.conda\\envs\\gesture\\lib\\site-packages (from Flask==3.0.3->-r requirements.txt (line 4)) (1.8.2)\n",
      "Requirement already satisfied: contourpy>=1.0.1 in c:\\users\\shaik\\.conda\\envs\\gesture\\lib\\site-packages (from matplotlib==3.10.0->-r requirements.txt (line 7)) (1.2.1)\n",
      "Requirement already satisfied: cycler>=0.10 in c:\\users\\shaik\\.conda\\envs\\gesture\\lib\\site-packages (from matplotlib==3.10.0->-r requirements.txt (line 7)) (0.12.1)\n",
      "Requirement already satisfied: fonttools>=4.22.0 in c:\\users\\shaik\\.conda\\envs\\gesture\\lib\\site-packages (from matplotlib==3.10.0->-r requirements.txt (line 7)) (4.52.4)\n",
      "Requirement already satisfied: kiwisolver>=1.3.1 in c:\\users\\shaik\\.conda\\envs\\gesture\\lib\\site-packages (from matplotlib==3.10.0->-r requirements.txt (line 7)) (1.4.5)\n",
      "Requirement already satisfied: packaging>=20.0 in c:\\users\\shaik\\.conda\\envs\\gesture\\lib\\site-packages (from matplotlib==3.10.0->-r requirements.txt (line 7)) (23.2)\n",
      "Requirement already satisfied: pyparsing>=2.3.1 in c:\\users\\shaik\\.conda\\envs\\gesture\\lib\\site-packages (from matplotlib==3.10.0->-r requirements.txt (line 7)) (3.2.0)\n",
      "Requirement already satisfied: absl-py in c:\\users\\shaik\\.conda\\envs\\gesture\\lib\\site-packages (from mediapipe==0.10.14->-r requirements.txt (line 8)) (2.1.0)\n",
      "Requirement already satisfied: attrs>=19.1.0 in c:\\users\\shaik\\.conda\\envs\\gesture\\lib\\site-packages (from mediapipe==0.10.14->-r requirements.txt (line 8)) (24.2.0)\n",
      "Requirement already satisfied: flatbuffers>=2.0 in c:\\users\\shaik\\.conda\\envs\\gesture\\lib\\site-packages (from mediapipe==0.10.14->-r requirements.txt (line 8)) (24.3.25)\n",
      "Requirement already satisfied: jax in c:\\users\\shaik\\.conda\\envs\\gesture\\lib\\site-packages (from mediapipe==0.10.14->-r requirements.txt (line 8)) (0.4.34)\n",
      "Requirement already satisfied: jaxlib in c:\\users\\shaik\\.conda\\envs\\gesture\\lib\\site-packages (from mediapipe==0.10.14->-r requirements.txt (line 8)) (0.4.34)\n",
      "Requirement already satisfied: protobuf<5,>=4.25.3 in c:\\users\\shaik\\.conda\\envs\\gesture\\lib\\site-packages (from mediapipe==0.10.14->-r requirements.txt (line 8)) (4.25.6)\n",
      "Requirement already satisfied: six in c:\\users\\shaik\\.conda\\envs\\gesture\\lib\\site-packages (from pynput==1.7.7->-r requirements.txt (line 15)) (1.16.0)\n",
      "Requirement already satisfied: charset-normalizer<4,>=2 in c:\\users\\shaik\\.conda\\envs\\gesture\\lib\\site-packages (from requests==2.32.3->-r requirements.txt (line 19)) (3.4.0)\n",
      "Requirement already satisfied: idna<4,>=2.5 in c:\\users\\shaik\\.conda\\envs\\gesture\\lib\\site-packages (from requests==2.32.3->-r requirements.txt (line 19)) (3.10)\n",
      "Requirement already satisfied: urllib3<3,>=1.21.1 in c:\\users\\shaik\\.conda\\envs\\gesture\\lib\\site-packages (from requests==2.32.3->-r requirements.txt (line 19)) (2.2.3)\n",
      "Requirement already satisfied: certifi>=2017.4.17 in c:\\users\\shaik\\.conda\\envs\\gesture\\lib\\site-packages (from requests==2.32.3->-r requirements.txt (line 19)) (2024.8.30)\n",
      "Requirement already satisfied: pyasn1>=0.1.3 in c:\\users\\shaik\\.conda\\envs\\gesture\\lib\\site-packages (from rsa==4.9->-r requirements.txt (line 20)) (0.6.1)\n",
      "Requirement already satisfied: pandas>=1.2 in c:\\users\\shaik\\.conda\\envs\\gesture\\lib\\site-packages (from seaborn==0.13.2->-r requirements.txt (line 22)) (2.2.3)\n",
      "Requirement already satisfied: astunparse>=1.6.0 in c:\\users\\shaik\\.conda\\envs\\gesture\\lib\\site-packages (from tensorflow-intel==2.15.0->-r requirements.txt (line 29)) (1.6.3)\n",
      "Requirement already satisfied: gast!=0.5.0,!=0.5.1,!=0.5.2,>=0.2.1 in c:\\users\\shaik\\.conda\\envs\\gesture\\lib\\site-packages (from tensorflow-intel==2.15.0->-r requirements.txt (line 29)) (0.6.0)\n",
      "Requirement already satisfied: google-pasta>=0.1.1 in c:\\users\\shaik\\.conda\\envs\\gesture\\lib\\site-packages (from tensorflow-intel==2.15.0->-r requirements.txt (line 29)) (0.2.0)\n",
      "Requirement already satisfied: h5py>=2.9.0 in c:\\users\\shaik\\.conda\\envs\\gesture\\lib\\site-packages (from tensorflow-intel==2.15.0->-r requirements.txt (line 29)) (3.11.0)\n",
      "Requirement already satisfied: libclang>=13.0.0 in c:\\users\\shaik\\.conda\\envs\\gesture\\lib\\site-packages (from tensorflow-intel==2.15.0->-r requirements.txt (line 29)) (18.1.1)\n",
      "Requirement already satisfied: ml-dtypes~=0.2.0 in c:\\users\\shaik\\.conda\\envs\\gesture\\lib\\site-packages (from tensorflow-intel==2.15.0->-r requirements.txt (line 29)) (0.2.0)\n",
      "Requirement already satisfied: opt-einsum>=2.3.2 in c:\\users\\shaik\\.conda\\envs\\gesture\\lib\\site-packages (from tensorflow-intel==2.15.0->-r requirements.txt (line 29)) (3.3.0)\n",
      "Requirement already satisfied: setuptools in c:\\users\\shaik\\.conda\\envs\\gesture\\lib\\site-packages (from tensorflow-intel==2.15.0->-r requirements.txt (line 29)) (76.0.0)\n",
      "Requirement already satisfied: termcolor>=1.1.0 in c:\\users\\shaik\\.conda\\envs\\gesture\\lib\\site-packages (from tensorflow-intel==2.15.0->-r requirements.txt (line 29)) (2.4.0)\n",
      "Requirement already satisfied: wrapt<1.15,>=1.11.0 in c:\\users\\shaik\\.conda\\envs\\gesture\\lib\\site-packages (from tensorflow-intel==2.15.0->-r requirements.txt (line 29)) (1.14.1)\n",
      "Requirement already satisfied: tensorflow-io-gcs-filesystem>=0.23.1 in c:\\users\\shaik\\.conda\\envs\\gesture\\lib\\site-packages (from tensorflow-intel==2.15.0->-r requirements.txt (line 29)) (0.31.0)\n",
      "Requirement already satisfied: grpcio<2.0,>=1.24.3 in c:\\users\\shaik\\.conda\\envs\\gesture\\lib\\site-packages (from tensorflow-intel==2.15.0->-r requirements.txt (line 29)) (1.68.1)\n",
      "Requirement already satisfied: tensorboard<2.16,>=2.15 in c:\\users\\shaik\\.conda\\envs\\gesture\\lib\\site-packages (from tensorflow-intel==2.15.0->-r requirements.txt (line 29)) (2.15.2)\n",
      "Requirement already satisfied: filelock in c:\\users\\shaik\\.conda\\envs\\gesture\\lib\\site-packages (from torch==2.6.0->-r requirements.txt (line 30)) (3.14.0)\n",
      "Requirement already satisfied: networkx in c:\\users\\shaik\\.conda\\envs\\gesture\\lib\\site-packages (from torch==2.6.0->-r requirements.txt (line 30)) (3.3)\n",
      "Requirement already satisfied: fsspec in c:\\users\\shaik\\.conda\\envs\\gesture\\lib\\site-packages (from torch==2.6.0->-r requirements.txt (line 30)) (2024.5.0)\n",
      "Requirement already satisfied: sympy==1.13.1 in c:\\users\\shaik\\.conda\\envs\\gesture\\lib\\site-packages (from torch==2.6.0->-r requirements.txt (line 30)) (1.13.1)\n",
      "Requirement already satisfied: pyyaml>=5.3.1 in c:\\users\\shaik\\.conda\\envs\\gesture\\lib\\site-packages (from ultralytics==8.3.40->-r requirements.txt (line 35)) (6.0.2)\n",
      "Requirement already satisfied: tqdm>=4.64.0 in c:\\users\\shaik\\.conda\\envs\\gesture\\lib\\site-packages (from ultralytics==8.3.40->-r requirements.txt (line 35)) (4.67.1)\n",
      "Requirement already satisfied: psutil in c:\\users\\shaik\\.conda\\envs\\gesture\\lib\\site-packages (from ultralytics==8.3.40->-r requirements.txt (line 35)) (6.1.1)\n",
      "Requirement already satisfied: py-cpuinfo in c:\\users\\shaik\\.conda\\envs\\gesture\\lib\\site-packages (from ultralytics==8.3.40->-r requirements.txt (line 35)) (9.0.0)\n",
      "Requirement already satisfied: MarkupSafe>=2.1.1 in c:\\users\\shaik\\.conda\\envs\\gesture\\lib\\site-packages (from Werkzeug==3.1.3->-r requirements.txt (line 37)) (2.1.5)\n",
      "Requirement already satisfied: mpmath<1.4,>=1.1.0 in c:\\users\\shaik\\.conda\\envs\\gesture\\lib\\site-packages (from sympy==1.13.1->torch==2.6.0->-r requirements.txt (line 30)) (1.3.0)\n",
      "Requirement already satisfied: wheel<1.0,>=0.23.0 in c:\\users\\shaik\\.conda\\envs\\gesture\\lib\\site-packages (from astunparse>=1.6.0->tensorflow-intel==2.15.0->-r requirements.txt (line 29)) (0.45.1)\n",
      "Requirement already satisfied: colorama in c:\\users\\shaik\\.conda\\envs\\gesture\\lib\\site-packages (from click>=8.1.3->Flask==3.0.3->-r requirements.txt (line 4)) (0.4.6)\n",
      "Requirement already satisfied: google-auth<3,>=1.6.3 in c:\\users\\shaik\\.conda\\envs\\gesture\\lib\\site-packages (from tensorboard<2.16,>=2.15->tensorflow-intel==2.15.0->-r requirements.txt (line 29)) (2.37.0)\n",
      "Requirement already satisfied: google-auth-oauthlib<2,>=0.5 in c:\\users\\shaik\\.conda\\envs\\gesture\\lib\\site-packages (from tensorboard<2.16,>=2.15->tensorflow-intel==2.15.0->-r requirements.txt (line 29)) (1.2.1)\n",
      "Requirement already satisfied: markdown>=2.6.8 in c:\\users\\shaik\\.conda\\envs\\gesture\\lib\\site-packages (from tensorboard<2.16,>=2.15->tensorflow-intel==2.15.0->-r requirements.txt (line 29)) (3.6)\n",
      "Requirement already satisfied: tensorboard-data-server<0.8.0,>=0.7.0 in c:\\users\\shaik\\.conda\\envs\\gesture\\lib\\site-packages (from tensorboard<2.16,>=2.15->tensorflow-intel==2.15.0->-r requirements.txt (line 29)) (0.7.2)\n",
      "Requirement already satisfied: cachetools<6.0,>=2.0.0 in c:\\users\\shaik\\.conda\\envs\\gesture\\lib\\site-packages (from google-auth<3,>=1.6.3->tensorboard<2.16,>=2.15->tensorflow-intel==2.15.0->-r requirements.txt (line 29)) (5.5.0)\n",
      "Requirement already satisfied: pyasn1-modules>=0.2.1 in c:\\users\\shaik\\.conda\\envs\\gesture\\lib\\site-packages (from google-auth<3,>=1.6.3->tensorboard<2.16,>=2.15->tensorflow-intel==2.15.0->-r requirements.txt (line 29)) (0.4.1)\n",
      "Requirement already satisfied: requests-oauthlib>=0.7.0 in c:\\users\\shaik\\.conda\\envs\\gesture\\lib\\site-packages (from google-auth-oauthlib<2,>=0.5->tensorboard<2.16,>=2.15->tensorflow-intel==2.15.0->-r requirements.txt (line 29)) (2.0.0)\n",
      "Note: you may need to restart the kernel to use updated packages.\n",
      "Requirement already satisfied: scikit-learn in c:\\users\\shaik\\.conda\\envs\\gesture\\lib\\site-packages (1.5.0)\n",
      "Requirement already satisfied: numpy>=1.19.5 in c:\\users\\shaik\\.conda\\envs\\gesture\\lib\\site-packages (from scikit-learn) (1.26.4)\n",
      "Requirement already satisfied: scipy>=1.6.0 in c:\\users\\shaik\\.conda\\envs\\gesture\\lib\\site-packages (from scikit-learn) (1.15.1)\n",
      "Requirement already satisfied: joblib>=1.2.0 in c:\\users\\shaik\\.conda\\envs\\gesture\\lib\\site-packages (from scikit-learn) (1.4.2)\n",
      "Requirement already satisfied: threadpoolctl>=3.1.0 in c:\\users\\shaik\\.conda\\envs\\gesture\\lib\\site-packages (from scikit-learn) (3.5.0)\n",
      "Note: you may need to restart the kernel to use updated packages.\n"
     ]
    }
   ],
   "source": [
    "%pip install -r requirements.txt\n",
    "%pip install scikit-learn"
   ]
  },
  {
   "cell_type": "code",
   "execution_count": 55,
   "metadata": {},
   "outputs": [],
   "source": [
    "import numpy as np\n",
    "import matplotlib.pyplot as plt\n",
    "from tensorflow.keras.preprocessing.image import ImageDataGenerator\n",
    "from tensorflow.keras.applications import MobileNet\n",
    "from tensorflow.keras.models import Model\n",
    "from tensorflow.keras.layers import Dense, GlobalAveragePooling2D\n",
    "from tensorflow.keras.optimizers import Adam\n",
    "from sklearn.model_selection import train_test_split\n",
    "from sklearn.metrics import classification_report\n",
    "import joblib\n",
    "import tensorflow as tf\n",
    "import os\n",
    "import warnings\n",
    "warnings.filterwarnings(\"ignore\")"
   ]
  },
  {
   "cell_type": "code",
   "execution_count": 62,
   "metadata": {},
   "outputs": [
    {
     "name": "stdout",
     "output_type": "stream",
     "text": [
      "Data split completed. Train and test sets saved in 'split__data'.\n"
     ]
    }
   ],
   "source": [
    "import os\n",
    "import shutil\n",
    "from sklearn.model_selection import train_test_split\n",
    "\n",
    "def split_data(input_folder, output_folder, test_size):\n",
    "    \"\"\"\n",
    "    Splits the data in the input folder into train and test sets and saves them in the output folder.\n",
    "\n",
    "    Parameters:\n",
    "        input_folder (str): Path to the folder containing the dataset.\n",
    "        output_folder (str): Path to save the train and test datasets.\n",
    "        test_size (float): Proportion of the dataset to include in the test split.\n",
    "    \"\"\"\n",
    "    # Create output folders for train and test\n",
    "    train_folder = os.path.join(output_folder, 'train')\n",
    "    test_folder = os.path.join(output_folder, 'test')\n",
    "\n",
    "    os.makedirs(train_folder, exist_ok=True)\n",
    "    os.makedirs(test_folder, exist_ok=True)\n",
    "\n",
    "    # Iterate through each class folder\n",
    "    for class_name in os.listdir(input_folder):\n",
    "        class_folder = os.path.join(input_folder, class_name)\n",
    "\n",
    "        if os.path.isdir(class_folder):\n",
    "            # Get all files in the class folder\n",
    "            files = [f for f in os.listdir(class_folder) if os.path.isfile(os.path.join(class_folder, f))]\n",
    "\n",
    "            # Split files into train and test\n",
    "            train_files, test_files = train_test_split(files, test_size=test_size, random_state=42)\n",
    "\n",
    "            # Create class folders in train and test directories\n",
    "            train_class_folder = os.path.join(train_folder, class_name)\n",
    "            test_class_folder = os.path.join(test_folder, class_name)\n",
    "\n",
    "            os.makedirs(train_class_folder, exist_ok=True)\n",
    "            os.makedirs(test_class_folder, exist_ok=True)\n",
    "\n",
    "            # Copy files to train and test folders\n",
    "            for file in train_files:\n",
    "                shutil.copy(os.path.join(class_folder, file), os.path.join(train_class_folder, file))\n",
    "\n",
    "            for file in test_files:\n",
    "                shutil.copy(os.path.join(class_folder, file), os.path.join(test_class_folder, file))\n",
    "\n",
    "    print(f\"Data split completed. Train and test sets saved in '{output_folder}'.\")\n",
    "\n",
    "# Example usage\n",
    "input_folder = 'asl_dataset\\\\asl_dataset'\n",
    "output_folder = 'split__data'\n",
    "test_size = 0.1 # 10% data for testing\n",
    "\n",
    "split_data(input_folder, output_folder, test_size)\n"
   ]
  },
  {
   "cell_type": "code",
   "execution_count": 63,
   "metadata": {},
   "outputs": [],
   "source": [
    "# Load and preprocess the dataset\n",
    "train_dir = 'split__data/train'\n",
    "test_dir = 'split__data/test'"
   ]
  },
  {
   "cell_type": "code",
   "execution_count": 64,
   "metadata": {},
   "outputs": [],
   "source": [
    "# ImageDataGenerator for loading and augmenting images\n",
    "datagen = ImageDataGenerator(rescale=1./255)"
   ]
  },
  {
   "cell_type": "markdown",
   "metadata": {},
   "source": [
    "---\n",
    "# Load images with augmentation\n",
    "<span id=\"Importmodules\"></span>\n",
    "\n",
    "---"
   ]
  },
  {
   "cell_type": "code",
   "execution_count": 65,
   "metadata": {},
   "outputs": [
    {
     "name": "stdout",
     "output_type": "stream",
     "text": [
      "Found 2263 images belonging to 36 classes.\n",
      "Found 252 images belonging to 36 classes.\n"
     ]
    }
   ],
   "source": [
    "# Load images from the training directory\n",
    "train_data_gen = datagen.flow_from_directory(\n",
    "    train_dir,\n",
    "    target_size=(224, 224),\n",
    "    batch_size=32,\n",
    "    class_mode='categorical',\n",
    "    shuffle=True\n",
    ")\n",
    "\n",
    "# Load images from the testing directory\n",
    "test_data_gen = datagen.flow_from_directory(\n",
    "    test_dir,\n",
    "    target_size=(224, 224),\n",
    "    batch_size=32,\n",
    "    class_mode='categorical',\n",
    "    shuffle=True\n",
    ")\n",
    "\n"
   ]
  }
 ],
 "metadata": {
  "kernelspec": {
   "display_name": "Python 3",
   "language": "python",
   "name": "python3"
  },
  "language_info": {
   "codemirror_mode": {
    "name": "ipython",
    "version": 3
   },
   "file_extension": ".py",
   "mimetype": "text/x-python",
   "name": "python",
   "nbconvert_exporter": "python",
   "pygments_lexer": "ipython3",
   "version": "3.10.14"
  }
 },
 "nbformat": 4,
 "nbformat_minor": 2
}
